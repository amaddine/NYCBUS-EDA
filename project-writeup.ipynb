{
 "cells": [
  {
   "cell_type": "markdown",
   "metadata": {},
   "source": [
    "# DATA CLEANING"
   ]
  },
  {
   "cell_type": "code",
   "execution_count": 4,
   "metadata": {
    "collapsed": true
   },
   "outputs": [],
   "source": [
    "import pandas as pd\n",
    "import numpy as np"
   ]
  },
  {
   "cell_type": "code",
   "execution_count": 5,
   "metadata": {
    "collapsed": true
   },
   "outputs": [
    {
     "name": "stderr",
     "output_type": "stream",
     "text": [
      "/Users/abhimaddineni/miniconda3/lib/python3.7/site-packages/IPython/core/interactiveshell.py:3020: DtypeWarning: Columns (17) have mixed types. Specify dtype option on import or set low_memory=False.\n",
      "  interactivity=interactivity, compiler=compiler, result=result)\n"
     ]
    }
   ],
   "source": [
    "#cols = ['School_Year', 'Busbreakdown_ID', 'Run_Type', 'Bus_No', 'Route_Number', 'Reason', 'Schools_Serviced', 'Occured_On', 'Created_On', 'Boro', 'Bus_Company', 'How_Long_Delayed', 'Number_Of_Students_On_The_Bus', 'Has_Contractor_Notified_Schools', 'Hac_Contractor_Notified_Parents', 'Informed_On', 'Incident_Number', 'Last_Updated_On', 'Breakdown_or_Delay', 'School_Age_or_PreK']\n",
    "\n",
    "data_frame = pd.read_csv(\"bus-breakdown-and-delays.csv\")"
   ]
  },
  {
   "cell_type": "code",
   "execution_count": null,
   "metadata": {
    "collapsed": true
   },
   "outputs": [],
   "source": [
    "data_frame.head(10)"
   ]
  },
  {
   "cell_type": "code",
   "execution_count": 13,
   "metadata": {
    "collapsed": true
   },
   "outputs": [
    {
     "data": {
      "text/plain": [
       "Bus_Company_Name\n",
       "1967                                   1\n",
       "1992                                 138\n",
       "ACME BUS CORP. (B2321)              1602\n",
       "ADDIES                                26\n",
       "ALINA SERVICES CORP.                 544\n",
       "ALL AMERICAN SCHOOL BUS C           1269\n",
       "ALL AMERICAN SCHOOL BUS CORP.        841\n",
       "ALL COUNTY BUS LLC (B2321            255\n",
       "ALL COUNTY BUS LLC (B2321)           130\n",
       "ALLIED TRANSIT CORP.                4778\n",
       "ANOTHER RIDE INC.                    678\n",
       "B & F SKILLED INC.(B2192)           3442\n",
       "BOBBY`S BUS CO. INC.                2086\n",
       "BORO TRANSIT, INC.                 12767\n",
       "CAREFUL BUS                         2474\n",
       "CAREFUL BUS SERVICE INC (            105\n",
       "CAREFUL BUS SERVICE INC (B2192)      545\n",
       "CHILDREN`S TRANS INC. (B2            230\n",
       "CHILDREN`S TRANS INC. (B2321)        130\n",
       "CONSOLIDATED BUS TRANS. I           2247\n",
       "CONSOLIDATED BUS TRANS. INC.         641\n",
       "CONSOLIDATED BUS TRANSIT, INC.      1325\n",
       "DON THOMAS BUSES                       2\n",
       "DON THOMAS BUSES, INC.              2908\n",
       "DON THOMAS BUSES, INC. (B           3034\n",
       "DON THOMAS BUSES, INC. (B2321)      2488\n",
       "Don Thomas Buses                      13\n",
       "EMPIRE CHARTER SERVICE IN            973\n",
       "EMPIRE CHARTER SERVICE INC          1681\n",
       "EMPIRE STATE BUS CORP.              2657\n",
       "FIRST STEPS                          339\n",
       "FIRST STEPS TRANS INC. (B2192)      1383\n",
       "FIRST STEPS TRANS, INC                76\n",
       "FIRST STEPS TRANSP INC. (           2458\n",
       "FIRST STEPS TRANSP INC. (B2192)      783\n",
       "FORTUNA BUS COMPANY                    1\n",
       "G.V.C. LTD. (B2192)                 5340\n",
       "G.V.C., LTD.                       20220\n",
       "GRANDPA`S BUS CO., INC.             3224\n",
       "GVC LTD.                               1\n",
       "HAPPY CHILD TRANS LLC (B2           2927\n",
       "HAPPY CHILD TRANS LLC (B2192)       1332\n",
       "HOYT TRANSPORTATION CORP.           7197\n",
       "I & Y TRANSIT CORP                   494\n",
       "IC BUS INC.                            1\n",
       "IC BUS INC. (PRE-K)                   38\n",
       "JOFAZ TRANSPORTATION INC.           4151\n",
       "L & M BUS CORP (A)                   823\n",
       "L & M BUS CORP.                     5982\n",
       "L & M BUS CORP. (B2192)             3058\n",
       "dtype: int64"
      ]
     },
     "execution_count": 13,
     "metadata": {},
     "output_type": "execute_result"
    }
   ],
   "source": [
    "z = data_frame.groupby('Bus_Company_Name').size()\n",
    "z.head(50)"
   ]
  },
  {
   "cell_type": "code",
   "execution_count": 6,
   "metadata": {
    "collapsed": true
   },
   "outputs": [
    {
     "data": {
      "text/plain": [
       "0                          BORO TRANSIT, INC.\n",
       "1                   RELIANT TRANS, INC. (B232\n",
       "2                   NEW DAWN TRANSIT, LLC (B2\n",
       "3                      EMPIRE STATE BUS CORP.\n",
       "4                          BORO TRANSIT, INC.\n",
       "5                   MAR-CAN TRANSPORT CO. INC\n",
       "6                   RELIANT TRANS, INC. (B232\n",
       "7                                 CAREFUL BUS\n",
       "8                          BORO TRANSIT, INC.\n",
       "9                   LEESEL TRANSP CORP (B2192\n",
       "10                     LOGAN BUS COMPANY INC.\n",
       "11                     LOGAN BUS COMPANY INC.\n",
       "12                     LOGAN BUS COMPANY INC.\n",
       "13                  MAR-CAN TRANSPORT CO. INC\n",
       "14                  RELIANT TRANS, INC. (B232\n",
       "15                  HOYT TRANSPORTATION CORP.\n",
       "16                                SNT BUS INC\n",
       "17                  LITTLE RICHIE BUS SERVICE\n",
       "18                  ALL AMERICAN SCHOOL BUS C\n",
       "19                     EMPIRE STATE BUS CORP.\n",
       "20                  ALL AMERICAN SCHOOL BUS C\n",
       "21                  RELIANT TRANS, INC. (B232\n",
       "22                        G.V.C. LTD. (B2192)\n",
       "23                  SELBY TRANS CORP. (B2192)\n",
       "24                  RELIANT TRANS, INC. (B232\n",
       "25                  MAR-CAN TRANSPORT CO. INC\n",
       "26                  PIONEER TRANSPORTATION CO\n",
       "27                        G.V.C. LTD. (B2192)\n",
       "28                  JOFAZ TRANSPORTATION INC.\n",
       "29                      VAN TRANS LLC (B2192)\n",
       "                         ...                 \n",
       "300984             THOMAS BUSES, INC. (B2321)\n",
       "300985                     BORO TRANSIT, INC.\n",
       "300986         DON THOMAS BUSES, INC. (B2321)\n",
       "300987             THOMAS BUSES, INC. (B2321)\n",
       "300988     LEESEL TRANSPORTATION CORP (B2192)\n",
       "300989    RELIANT TRANSPORTATION, INC (B2321)\n",
       "300990             THOMAS BUSES, INC. (B2321)\n",
       "300991    RELIANT TRANSPORTATION, INC (B2321)\n",
       "300992             EMPIRE CHARTER SERVICE INC\n",
       "300993            PIONEER TRANSPORTATION CORP\n",
       "300994                           G.V.C., LTD.\n",
       "300995                     L & M BUS CORP (A)\n",
       "300996                           G.V.C., LTD.\n",
       "300997                 LOGAN BUS COMPANY INC.\n",
       "300998            PIONEER TRANSPORTATION CORP\n",
       "300999            PIONEER TRANSPORTATION CORP\n",
       "301000    RELIANT TRANSPORTATION, INC (B2321)\n",
       "301001                L & M BUS CORP. (B2192)\n",
       "301002                     L & M BUS CORP (A)\n",
       "301003                  VAN TRANS LLC (B2192)\n",
       "301004         PRIDE TRANSPORTATION (SCH AGE)\n",
       "301005              B & F SKILLED INC.(B2192)\n",
       "301006          NEW DAWN TRANSIT, LLC (B2321)\n",
       "301007                     L & M BUS CORP (A)\n",
       "301008                     I & Y TRANSIT CORP\n",
       "301009                           G.V.C., LTD.\n",
       "301010                   SELBY TRANSPORTATION\n",
       "301011                   SELBY TRANSPORTATION\n",
       "301012              B & F SKILLED INC.(B2192)\n",
       "301013                           G.V.C., LTD.\n",
       "Name: Bus_Company_Name, Length: 301014, dtype: object"
      ]
     },
     "execution_count": 6,
     "metadata": {},
     "output_type": "execute_result"
    }
   ],
   "source": [
    "data_frame['Bus_Company_Name']"
   ]
  },
  {
   "cell_type": "code",
   "execution_count": null,
   "metadata": {
    "collapsed": true
   },
   "outputs": [],
   "source": [
    "def clean_up(x):\n",
    "    x = str(x)\n",
    "    removers = ['Min', 'min', 'MINS', 'mins', 'minutes', 'Mins', 'MIN']\n",
    "    for i in removers: \n",
    "        index = x.find(i)\n",
    "        if index ==  -1:\n",
    "            continue \n",
    "        else:\n",
    "            x = x[0:index]\n",
    "    return x"
   ]
  },
  {
   "cell_type": "code",
   "execution_count": null,
   "metadata": {
    "collapsed": true
   },
   "outputs": [],
   "source": [
    "data_frame['Cleaned_Delay_Time'] = data_frame['How_Long_Delayed'].map(lambda x: clean_up(x))"
   ]
  },
  {
   "cell_type": "code",
   "execution_count": null,
   "metadata": {
    "collapsed": true
   },
   "outputs": [],
   "source": [
    "data_frame['Cleaned_Delay_Time'].head()"
   ]
  },
  {
   "cell_type": "code",
   "execution_count": null,
   "metadata": {
    "collapsed": true
   },
   "outputs": [],
   "source": [
    "def clean_up2(x):\n",
    "    x = str(x)\n",
    "    index = x.find(\"-\")\n",
    "    if index != -1:\n",
    "        x = x[0:index]\n",
    "        return x\n",
    "    return x"
   ]
  },
  {
   "cell_type": "code",
   "execution_count": null,
   "metadata": {
    "collapsed": true
   },
   "outputs": [],
   "source": [
    "data_frame['Cleaned_Delay_Time'] = data_frame['Cleaned_Delay_Time'].map(lambda x: clean_up2(x))"
   ]
  },
  {
   "cell_type": "code",
   "execution_count": null,
   "metadata": {
    "collapsed": true
   },
   "outputs": [],
   "source": [
    "data_frame['Cleaned_Delay_Time'].head()"
   ]
  },
  {
   "cell_type": "code",
   "execution_count": null,
   "metadata": {
    "collapsed": true
   },
   "outputs": [],
   "source": [
    "def clean_up3(x):\n",
    "    x = str(x)\n",
    "    x = x.strip()\n",
    "    removers = ['hr', 'Hours', 'HOURS', 'hrs', 'HRS']\n",
    "    for i in removers:\n",
    "        try:\n",
    "            index = x.find(i)\n",
    "            if index == -1:\n",
    "                continue \n",
    "            else:\n",
    "                x = x[0:index]\n",
    "                x = int(x)*60\n",
    "        except:\n",
    "            print(x, type(x))\n",
    "    return x "
   ]
  },
  {
   "cell_type": "code",
   "execution_count": null,
   "metadata": {
    "collapsed": true
   },
   "outputs": [],
   "source": [
    "data_frame['Cleaned_Delay_Time'] = data_frame['Cleaned_Delay_Time'].map(lambda x: clean_up3(x))"
   ]
  },
  {
   "cell_type": "code",
   "execution_count": null,
   "metadata": {
    "collapsed": true
   },
   "outputs": [],
   "source": [
    "data_frame['Cleaned_Delay_Time'].head(5000)"
   ]
  },
  {
   "cell_type": "code",
   "execution_count": null,
   "metadata": {
    "collapsed": true
   },
   "outputs": [],
   "source": [
    "data_frame['Bus_Company_Name'].value_counts()"
   ]
  },
  {
   "cell_type": "code",
   "execution_count": null,
   "metadata": {
    "collapsed": true
   },
   "outputs": [],
   "source": [
    "def clean_up_bus_co(x):\n",
    "    arr = x.split(\" \")\n",
    "    x = arr[0]\n",
    "    return x"
   ]
  },
  {
   "cell_type": "code",
   "execution_count": null,
   "metadata": {
    "collapsed": true
   },
   "outputs": [],
   "source": [
    "data_frame['Bus_Company_Name'] = data_frame['Bus_Company_Name'].map(lambda x: clean_up_bus_co(x))"
   ]
  },
  {
   "cell_type": "code",
   "execution_count": null,
   "metadata": {
    "collapsed": true
   },
   "outputs": [],
   "source": [
    "data_frame['Bus_Company_Name'].value_counts()"
   ]
  },
  {
   "cell_type": "code",
   "execution_count": null,
   "metadata": {
    "collapsed": true
   },
   "outputs": [],
   "source": [
    "def clean_up_gvc(x):\n",
    "    index = x.find(\",\")\n",
    "    if index != -1:\n",
    "        x = x[0:index]\n",
    "    return x"
   ]
  },
  {
   "cell_type": "code",
   "execution_count": null,
   "metadata": {
    "collapsed": true
   },
   "outputs": [],
   "source": [
    "data_frame['Bus_Company_Name'] = data_frame['Bus_Company_Name'].map(lambda x: clean_up_gvc(x))"
   ]
  },
  {
   "cell_type": "code",
   "execution_count": null,
   "metadata": {
    "collapsed": true
   },
   "outputs": [],
   "source": [
    "data_frame['Bus_Company_Name'].value_counts()"
   ]
  },
  {
   "cell_type": "code",
   "execution_count": null,
   "metadata": {
    "collapsed": true
   },
   "outputs": [],
   "source": [
    "path = '/Users/abhimaddineni/downloads/PDS/project'\n",
    "data_frame.to_csv('clean.csv')"
   ]
  },
  {
   "cell_type": "markdown",
   "metadata": {},
   "source": [
    "# REPORT"
   ]
  },
  {
   "cell_type": "code",
   "execution_count": null,
   "metadata": {
    "collapsed": true
   },
   "outputs": [],
   "source": [
    "from IPython.display import Image"
   ]
  },
  {
   "cell_type": "markdown",
   "metadata": {},
   "source": [
    "# Introduction \n",
    "\n",
    "The data set that we have chosen to do our analysis on is the delays/breakdowns for private bus companies that operate in the metropolitan area of New York which is comprised of the 5 boroughs as well as surrounding areas such as New Jersey, Westchester, Greenwich. \n",
    "\n",
    "We approached this exploratory data analysis looking to answer 4 key questions as outlined below: \n",
    "<br>\n",
    "> 1) The relation between the number of breakdowns and average delay time \n",
    "<br>\n",
    "> 2) The relation between breakdowns and time\n",
    "<br>\n",
    "> 3) The seasonal distribution of breakdowns/delays as well as change over time\n",
    "<br>\n",
    "> 4) The relation between notification presence/time and the type of demographic the buses are carrying\n",
    "<br>\n",
    "    \n",
    "In order to answer these questions we followed an iterative approach that allowed us to thoroughly explore the data and piece together an answer for each of these questions. \n",
    "\n",
    "Before we launch into the questions though, we'd like to describe a key assumption that was made in this process: \n",
    "\n",
    "<br>\n",
    "\n",
    "\n",
    "<img src=\"bus_discrepancy.png\" width=500>\n",
    "<br>\n",
    "\n",
    "As seen in the image above we can see for example that Don Thomas Buses and Thomas Buses both appear. These companies however are the exact same company so were merged for the purpose of data analysis. A similar process was followed with other companies such as this. We now proceed with our questions below."
   ]
  },
  {
   "cell_type": "markdown",
   "metadata": {},
   "source": [
    "# Question 1: Number of Breakdowns vs Average Delay Time\n",
    "\n",
    "We approached this question in an iterative fashion with the steps as follows: \n",
    "<br> \n",
    "<br>\n",
    "1) We first filtered the data by which companies had the most breakdowns when aggregated over the entire data set. The graph is as seen below and one can't gather too much from it. \n",
    "<br>\n",
    "<img src=\"companies_1.png\" width=700>\n",
    "<br>\n",
    "2) We then next found the average delay time by the company and then sorted in descending order in order to see which companies had the highest average delay time\n",
    "<br>\n",
    "<img src=\"companies_2.png\" width=700>\n",
    "<br>\n",
    "3) Finally we plotted the average delay time vs. the number of delays and were able to find a more concrete relationship then. We observed that companies with more aggregated delays tended to be much faster in responding to calls as opposed to companies with less delays being more inefficient with notifiying the proper entities. We surmised that this happened for two reasons: \n",
    "<br> \n",
    "<br>\n",
    "> 1) The companies with more delays have more routes and tend to be bigger companies with more staff\n",
    "<br>\n",
    "> 2) Operating procedure may vary by companies\n",
    "<br>\n",
    "<img src=\"scatterplot.png\" width=900>\n",
    "<br>\n",
    "Miscellaneous\n",
    "<br>\n",
    "<img src=\"general.png\" width=400>"
   ]
  },
  {
   "cell_type": "markdown",
   "metadata": {},
   "source": [
    "# Question 2: Breakdowns and Time\n",
    "\n",
    "There was no specific process that we followed for these questions but we instead broke down the delays by different variables such as week, month, hour, and day of the week. The relevant results are shown below. \n",
    "<br> \n",
    "<img src=\"month.png\" width=500>\n",
    "<br>\n",
    "Description: This graph shows us the spread of breakdowns/delays as the year passes. We noticed that as the winter months arrive the number of delays/breakdowns significantly increases before falling as the weather gets warmer. We think that this phenomenon occurs because traffic and accidents increase as weather gets worse while it is also likely that there is less traffic during the summer months since schools are out then.\n",
    "<br>\n",
    "<img src=\"reason_month.png\" width=500>\n",
    "<br>\n",
    "<br>\n",
    "Description: This graph show us the breakdown of delays/breakdowns as the year passes and we find that all of the categories have almost the same shape as the previous graphs. The most common problems observed are traffic, other, and mechanical problems. This makes sense as New York is one of the most crowded places in the United States and mechanical problems as a whole tend to increase in the winter months.\n",
    "<br>\n",
    "<br>\n",
    "<img src=\"hour.png\" width=900>\n",
    "<br>\n",
    "Description: This final graph here is straightforward and shows the breakdowns/delays by hour of the day. We see that most occur in two unique clusters around 8 am and 3 pm. This can be chalked up to standard school times and high traffic times with respect to other commuters"
   ]
  },
  {
   "cell_type": "markdown",
   "metadata": {},
   "source": [
    "# Question 3: Delays and Other Factors\n",
    "\n",
    "This questions primary purpose was to find if delays/breakdowns were influenced by any other external factors. However, after much analysis we found only one interesting trend as shown by the graph below.\n",
    "<br>\n",
    "<br>\n",
    "<img src=\"sidebyside.png\" width=900>\n",
    "<br>\n",
    "<br>\n",
    "The image is a side by side bar graph with the one on the left showing the average delay/breakdown time by boro and the graph on the right showing the aggregated counts of delay by the boro. We see that the boro's with the highest avergae delay time aren't necessarily the ones with the most breakdowns or delays. This could occur for a couple of reasons:\n",
    "<br>\n",
    "> 1) The boro's with less breakdowns are worse equipped to deal with them\n",
    "<br>\n",
    "> 2) Experience in dealing with breakdowns helps with expediting the process"
   ]
  },
  {
   "cell_type": "markdown",
   "metadata": {},
   "source": [
    "# Question 4: Notification by Run Type\n",
    "\n",
    "We wanted to see if the age of the students on board of a bus had a relation/correlation with the notification of parents. Our results are in the graph below. \n",
    "<br>\n",
    "<img src=\"notification.png\" width=600>\n",
    "<br>\n",
    "\n",
    "One can see from the graph that general education notification rates are much lower than Pre-K and Special Ed notification. The reason for this is very baffling and something worth investigating further."
   ]
  },
  {
   "cell_type": "code",
   "execution_count": null,
   "metadata": {
    "collapsed": true
   },
   "outputs": [],
   "source": []
  }
 ],
 "metadata": {
  "kernelspec": {
   "display_name": "Python 3",
   "language": "python",
   "name": "python3"
  },
  "language_info": {
   "codemirror_mode": {
    "name": "ipython",
    "version": 3
   },
   "file_extension": ".py",
   "mimetype": "text/x-python",
   "name": "python",
   "nbconvert_exporter": "python",
   "pygments_lexer": "ipython3",
   "version": "3.7.1"
  }
 },
 "nbformat": 4,
 "nbformat_minor": 2
}
